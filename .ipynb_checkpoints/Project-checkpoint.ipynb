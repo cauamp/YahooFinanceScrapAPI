{
 "cells": [
  {
   "cell_type": "markdown",
   "id": "b2dbe2fb",
   "metadata": {},
   "source": [
    "# Etapa1: Web Scrapping"
   ]
  },
  {
   "cell_type": "code",
   "execution_count": 1,
   "id": "4083c1b6",
   "metadata": {},
   "outputs": [],
   "source": [
    "import requests\n",
    "from bs4 import BeautifulSoup\n",
    "import re\n",
    "import datetime\n",
    "import sqlite3"
   ]
  },
  {
   "cell_type": "code",
   "execution_count": 180,
   "id": "b7bf01af",
   "metadata": {},
   "outputs": [],
   "source": [
    "def check_symbol_existence(symbol):\n",
    "    url = f\"https://query1.finance.yahoo.com/v8/finance/chart/{symbol}?range=1d\"\n",
    "    headers = {\n",
    "        \"User-Agent\": \"Mozilla/5.0 (Windows NT 10.0; Win64; x64) AppleWebKit/537.36 (KHTML, like Gecko) Chrome/58.0.3029.110 Safari/537.3\"\n",
    "    }\n",
    "    \n",
    "    try:\n",
    "        response = requests.get(url, headers=headers)\n",
    "        response.raise_for_status()  \n",
    "\n",
    "        exist = 'No data found, symbol may be delisted' not in response.text\n",
    "        if not exist:\n",
    "            print(f\"A ação '{symbol}' não existe ou não foi encontrada.\")\n",
    "            return False\n",
    "        \n",
    "        # Defina o padrão regex para capturar o valor entre aspas após \"instrumentType\":\n",
    "        padrao = r'\"instrumentType\":\"(.*?)\"'\n",
    "        # Inicializar um dicionário para armazenar as informações\n",
    "        metrics = {}\n",
    "        metrics['Symbol'] = re.findall(r'\"symbol\":\"(.*?)\"', response.text)[0]\n",
    "        metrics['type'] = re.findall(r'\"instrumentType\":\"(.*?)\"', response.text)[0]\n",
    "        return metrics\n",
    "\n",
    "    except requests.exceptions.RequestException as e:\n",
    "        print(f\"Erro na request de teste, A ação '{symbol}' não existe ou não foi encontrada.\")\n",
    "        return False\n"
   ]
  },
  {
   "cell_type": "code",
   "execution_count": 139,
   "id": "7b928fce",
   "metadata": {},
   "outputs": [],
   "source": [
    "def get_stock_metrics(symbol):\n",
    "    symbol = symbol.upper()\n",
    "    url = f\"https://finance.yahoo.com/quote/{symbol}/key-statistics\"\n",
    "    headers = {\"User-Agent\": \"https://query1.finance.yahoo.com/v8/finance/chart/NVDA?region=US&lang=en-US&includePrePost=false&interval=2m&useYfid=true&range=1d&corsDomain=finance.yahoo.com&.tsrc=finance\"}\n",
    "\n",
    "    try:\n",
    "        print(f'Checando a existencia de {symbol}...')\n",
    "        \n",
    "        metrics = check_symbol_existence(symbol)\n",
    "        if metrics is False:  \n",
    "            return None         \n",
    "        print('Encontrado! \\nAguarde ...')\n",
    "        response = requests.get(url, headers=headers)\n",
    "        # Parse do conteúdo HTML usando BeautifulSoup\n",
    "        soup = BeautifulSoup(response.text, 'html.parser')\n",
    "        \n",
    "        # Encontrar todas as linhas de tabela <tr> e salvar em uma lista\n",
    "        table_rows = soup.find_all('tr')\n",
    "        \n",
    "        # Encontrar Valor da ação, que nao se encontra na tabela\n",
    "        metrics['value'] = soup.find('fin-streamer', attrs={'data-field': 'regularMarketPrice'})['value']\n",
    "        \n",
    "        # Iterar sobre as <tr>\n",
    "        for row in table_rows:\n",
    "            # Encontrar os elementos <td> dentro da linha\n",
    "            cells = row.find_all('td')\n",
    "            # Extrair o texto do primeiro elemento <td> (métrica) e do segundo elemento <td> (valor da métrica)\n",
    "            if len(cells) == 2:\n",
    "                metric = cells[0].text.strip()\n",
    "                value = cells[1].text.strip()\n",
    "                metrics[metric] = value\n",
    "        \n",
    "        metrics['timestamp'] = datetime.datetime.now().isoformat()\n",
    "        print('\\n')\n",
    "        print('Metricas Obtidas!')\n",
    "        return metrics\n",
    "    except requests.exceptions.HTTPError as e:\n",
    "        print(\"Erro na request:\", e)\n",
    "        print(\"A ação foi encontrada porém, não foi possível obter as estatisticas da ação.\")\n",
    "        return None"
   ]
  },
  {
   "cell_type": "code",
   "execution_count": 181,
   "id": "b36f8dd6",
   "metadata": {},
   "outputs": [
    {
     "name": "stdout",
     "output_type": "stream",
     "text": [
      "Digite o símbolo da empresa (por exemplo, 'AAPL' para Apple Inc.): eur\n",
      "Checando a existencia de EUR...\n",
      "{\"chart\":{\"result\":[{\"meta\":{\"currency\":null,\"symbol\":\"EUR\",\"exchangeName\":\"NYS\",\"instrumentType\":\"INDEX\",\"firstTradeDate\":1543501800,\"regularMarketTime\":0,\"hasPrePostMarketData\":false,\"gmtoffset\":-14400,\"timezone\":\"EDT\",\"exchangeTimezoneName\":\"America/New_York\",\"regularMarketPrice\":0.0,\"chartPreviousClose\":0.0,\"previousClose\":0.0,\"scale\":3,\"priceHint\":4,\"currentTradingPeriod\":{\"pre\":{\"timezone\":\"EDT\",\"end\":1710855000,\"start\":1710835200,\"gmtoffset\":-14400},\"regular\":{\"timezone\":\"EDT\",\"end\":1710878400,\"start\":1710855000,\"gmtoffset\":-14400},\"post\":{\"timezone\":\"EDT\",\"end\":1710892800,\"start\":1710878400,\"gmtoffset\":-14400}},\"dataGranularity\":\"1m\",\"range\":\"1d\",\"validRanges\":[\"1d\",\"5d\",\"1mo\",\"3mo\",\"6mo\",\"1y\",\"2y\",\"5y\",\"10y\",\"ytd\",\"max\"]},\"indicators\":{\"quote\":[{}]}}],\"error\":null}}\n",
      "Encontrado! \n",
      "Aguarde ...\n",
      "\n",
      "\n",
      "Metricas Obtidas!\n",
      "Symbol: EUR\n",
      "type: INDEX\n",
      "value: 5178.51\n",
      "previous close: 0.0000\n",
      "open: 0.0000\n",
      "volume: 0\n",
      "day's range: 0.0000 - 0.0000\n",
      "52 week range: \n",
      "avg. volume: 0\n",
      "timestamp: 2024-03-19T19:49:20.828430\n"
     ]
    }
   ],
   "source": [
    "symbol = input(\"Digite o símbolo da empresa (por exemplo, 'AAPL' para Apple Inc.): \")\n",
    "\n",
    "    \n",
    "metrics = get_stock_metrics(symbol)\n",
    "for k, v in metrics.items():\n",
    "        print(f\"{k}: {v}\")\n",
    "\n"
   ]
  },
  {
   "cell_type": "code",
   "execution_count": 105,
   "id": "f88f76e5",
   "metadata": {},
   "outputs": [],
   "source": [
    "backup = {}\n",
    "backup.update(metrics)\n"
   ]
  },
  {
   "cell_type": "markdown",
   "id": "759582d2",
   "metadata": {},
   "source": [
    "# Etapa2: Criação da database"
   ]
  },
  {
   "cell_type": "code",
   "execution_count": 153,
   "id": "8bd145d5",
   "metadata": {
    "scrolled": true
   },
   "outputs": [],
   "source": [
    "def adjust_metrics_keys (metrics):\n",
    "    if metrics is not None:\n",
    "        new_data_dict = {}\n",
    "        for key, value in metrics.items():\n",
    "            new_key = key.split('(')[0].strip()\n",
    "            if new_key != \"Symbol\":\n",
    "                new_key = new_key.lower()\n",
    "            new_key = new_key.replace('%', 'percent')\n",
    "            new_key = re.sub(r'\\W+', '_', new_key)\n",
    "            # Verificar se a chave não começa com um número\n",
    "            if not new_key[0].isdigit():\n",
    "                new_data_dict[new_key] = value\n",
    "        # Atualizar o dicionário original\n",
    "        metrics.clear()  # Limpar o dicionário original\n",
    "        metrics.update(new_data_dict)  # Atualizar o dicionário original com as chaves atualizadas\n",
    "\n"
   ]
  },
  {
   "cell_type": "code",
   "execution_count": 157,
   "id": "379c1b82",
   "metadata": {},
   "outputs": [],
   "source": [
    "def create_table(cursor, table_name, columns):\n",
    "    \n",
    "    # Verificar se a tabela já existe\n",
    "    cursor.execute(\"SELECT name FROM sqlite_master WHERE type='table' AND name=?\", (table_name,))\n",
    "    existing_table = cursor.fetchone()\n",
    "    \n",
    "    if not existing_table:\n",
    "        cursor.execute(f\"CREATE TABLE IF NOT EXISTS {table_name} (Symbol TEXT PRIMARY KEY, {', '.join(columns)})\")\n",
    "    \n",
    "    cursor.execute(f\"PRAGMA table_info({table_name})\")\n",
    "    existing_columns = [column[1] for column in cursor.fetchall()]\n",
    "    # Adicionar apenas as colunas ausentes\n",
    "    for column in columns:\n",
    "        if column not in existing_columns:\n",
    "            cursor.execute(f\"ALTER TABLE {table_name} ADD COLUMN {column} REAL\")\n",
    "    \n",
    "def insert_data(cursor, table_name, data):\n",
    "    # Obter as colunas da tabela\n",
    "    cursor.execute(f\"PRAGMA table_info({table_name})\")\n",
    "    table_columns = [column[1] for column in cursor.fetchall()]\n",
    "    print(\"Inserindo: \\n\")\n",
    "\n",
    "    # Verificar se todas as chaves dos dados estão presentes nas colunas da tabela\n",
    "    for key in data.keys():\n",
    "        if key not in table_columns and key != 'type' and key != 'Symbol':\n",
    "            raise ValueError(f\"A coluna '{key}' não existe na tabela '{table_name}'\")\n",
    "\n",
    "    # Inserir os dados na tabela\n",
    "    columns = ', '.join([col for col in data.keys() if col != 'type'])\n",
    "    \n",
    "    # Remover o valor correspondente à chave 'Type'\n",
    "    values = tuple(data[key] for key in data.keys() if key != 'type')\n",
    "\n",
    "    # Criar marcadores de posição para o número correto de valores\n",
    "    placeholders = ', '.join(['?' for _ in range(len(values))])\n",
    "\n",
    "    print(values)\n",
    "    cursor.execute(f\"INSERT OR REPLACE INTO {table_name} ({columns}) VALUES ({placeholders})\", values)\n"
   ]
  },
  {
   "cell_type": "code",
   "execution_count": 177,
   "id": "f993695f",
   "metadata": {},
   "outputs": [
    {
     "name": "stdout",
     "output_type": "stream",
     "text": [
      "Digite o símbolo da empresa (por exemplo, 'AAPL' para Apple Inc.): eur\n",
      "Checando a existencia de EUR...\n",
      "Encontrado! \n",
      "Aguarde ...\n",
      "\n",
      "\n",
      "Metricas Obtidas!\n"
     ]
    }
   ],
   "source": [
    "symbol = input(\"Digite o símbolo da empresa (por exemplo, 'AAPL' para Apple Inc.): \")\n",
    "\n",
    "    \n",
    "metrics = get_stock_metrics(symbol.upper())"
   ]
  },
  {
   "cell_type": "code",
   "execution_count": 178,
   "id": "4f1e2e48",
   "metadata": {},
   "outputs": [
    {
     "name": "stdout",
     "output_type": "stream",
     "text": [
      "Symbol: EUR\n",
      "type: INDEX\n",
      "value: 5178.51\n",
      "previous_close: 0.0000\n",
      "open: 0.0000\n",
      "volume: 0\n",
      "day_s_range: 0.0000 - 0.0000\n",
      "avg_volume: 0\n",
      "timestamp: 2024-03-19T19:43:16.072664\n"
     ]
    },
    {
     "ename": "OperationalError",
     "evalue": "near \"INDEX\": syntax error",
     "output_type": "error",
     "traceback": [
      "\u001b[1;31m---------------------------------------------------------------------------\u001b[0m",
      "\u001b[1;31mOperationalError\u001b[0m                          Traceback (most recent call last)",
      "\u001b[1;32m~\\AppData\\Local\\Temp\\ipykernel_14184\\1746827308.py\u001b[0m in \u001b[0;36m<module>\u001b[1;34m\u001b[0m\n\u001b[0;32m     10\u001b[0m \u001b[1;31m# Criar tabela com base no tipo de métricas\u001b[0m\u001b[1;33m\u001b[0m\u001b[1;33m\u001b[0m\u001b[0m\n\u001b[0;32m     11\u001b[0m \u001b[0mtable_name\u001b[0m \u001b[1;33m=\u001b[0m \u001b[0mmetrics\u001b[0m\u001b[1;33m[\u001b[0m\u001b[1;34m'type'\u001b[0m\u001b[1;33m]\u001b[0m\u001b[1;33m\u001b[0m\u001b[1;33m\u001b[0m\u001b[0m\n\u001b[1;32m---> 12\u001b[1;33m \u001b[0mcreate_table\u001b[0m\u001b[1;33m(\u001b[0m\u001b[0mcursor\u001b[0m\u001b[1;33m,\u001b[0m \u001b[0mtable_name\u001b[0m\u001b[1;33m,\u001b[0m \u001b[1;33m[\u001b[0m\u001b[0mkey\u001b[0m \u001b[1;32mfor\u001b[0m \u001b[0mkey\u001b[0m \u001b[1;32min\u001b[0m \u001b[0mmetrics\u001b[0m\u001b[1;33m.\u001b[0m\u001b[0mkeys\u001b[0m\u001b[1;33m(\u001b[0m\u001b[1;33m)\u001b[0m \u001b[1;32mif\u001b[0m \u001b[0mkey\u001b[0m \u001b[1;33m!=\u001b[0m \u001b[1;34m'type'\u001b[0m \u001b[1;32mand\u001b[0m \u001b[0mkey\u001b[0m \u001b[1;33m!=\u001b[0m \u001b[1;34m'Symbol'\u001b[0m\u001b[1;33m]\u001b[0m\u001b[1;33m)\u001b[0m\u001b[1;33m\u001b[0m\u001b[1;33m\u001b[0m\u001b[0m\n\u001b[0m\u001b[0;32m     13\u001b[0m \u001b[0minsert_data\u001b[0m\u001b[1;33m(\u001b[0m\u001b[0mcursor\u001b[0m\u001b[1;33m,\u001b[0m \u001b[0mtable_name\u001b[0m\u001b[1;33m,\u001b[0m \u001b[0mmetrics\u001b[0m\u001b[1;33m)\u001b[0m\u001b[1;33m\u001b[0m\u001b[1;33m\u001b[0m\u001b[0m\n\u001b[0;32m     14\u001b[0m \u001b[1;33m\u001b[0m\u001b[0m\n",
      "\u001b[1;32m~\\AppData\\Local\\Temp\\ipykernel_14184\\984919794.py\u001b[0m in \u001b[0;36mcreate_table\u001b[1;34m(cursor, table_name, columns)\u001b[0m\n\u001b[0;32m      6\u001b[0m \u001b[1;33m\u001b[0m\u001b[0m\n\u001b[0;32m      7\u001b[0m     \u001b[1;32mif\u001b[0m \u001b[1;32mnot\u001b[0m \u001b[0mexisting_table\u001b[0m\u001b[1;33m:\u001b[0m\u001b[1;33m\u001b[0m\u001b[1;33m\u001b[0m\u001b[0m\n\u001b[1;32m----> 8\u001b[1;33m         \u001b[0mcursor\u001b[0m\u001b[1;33m.\u001b[0m\u001b[0mexecute\u001b[0m\u001b[1;33m(\u001b[0m\u001b[1;34mf\"CREATE TABLE IF NOT EXISTS {table_name} (Symbol TEXT PRIMARY KEY, {', '.join(columns)})\"\u001b[0m\u001b[1;33m)\u001b[0m\u001b[1;33m\u001b[0m\u001b[1;33m\u001b[0m\u001b[0m\n\u001b[0m\u001b[0;32m      9\u001b[0m \u001b[1;33m\u001b[0m\u001b[0m\n\u001b[0;32m     10\u001b[0m     \u001b[0mcursor\u001b[0m\u001b[1;33m.\u001b[0m\u001b[0mexecute\u001b[0m\u001b[1;33m(\u001b[0m\u001b[1;34mf\"PRAGMA table_info({table_name})\"\u001b[0m\u001b[1;33m)\u001b[0m\u001b[1;33m\u001b[0m\u001b[1;33m\u001b[0m\u001b[0m\n",
      "\u001b[1;31mOperationalError\u001b[0m: near \"INDEX\": syntax error"
     ]
    }
   ],
   "source": [
    "adjust_metrics_keys(metrics)\n",
    "for k, v in metrics.items():\n",
    "        print(f\"{k}: {v}\")\n",
    "\n",
    "        \n",
    "# Criar ou conectar ao banco de dados\n",
    "conn = sqlite3.connect('finance_data.db')\n",
    "cursor = conn.cursor()\n",
    "\n",
    "# Criar tabela com base no tipo de métricas\n",
    "table_name = metrics['type']\n",
    "create_table(cursor, table_name, [key for key in metrics.keys() if key != 'type' and key != 'Symbol'])\n",
    "insert_data(cursor, table_name, metrics)\n",
    "\n",
    "# Commit e fechar conexão\n",
    "conn.commit()\n",
    "conn.close()"
   ]
  },
  {
   "cell_type": "code",
   "execution_count": 175,
   "id": "f6c0e003",
   "metadata": {},
   "outputs": [
    {
     "name": "stdout",
     "output_type": "stream",
     "text": [
      "Inserindo: \n",
      "\n",
      "('QQQ', '5178.51', '437.48', '435.47', '438.59 x 1300', '438.60 x 1300', '433.33 - 438.98', '42,866,907', '45,121,396', '254.43B', '437.57', '35.76', '0.58%', '6.97%', '1.18', '0.20%', '1999-03-10', '2024-03-19T19:42:28.536407')\n"
     ]
    }
   ],
   "source": [
    "# Criar ou conectar ao banco de dados\n",
    "conn = sqlite3.connect('finance_data.db')\n",
    "cursor = conn.cursor()\n",
    "\n",
    "# Criar tabela com base no tipo de métricas\n",
    "table_name = metrics['type']\n",
    "\n",
    "# Inserir dados na tabela\n",
    "insert_data(cursor, table_name, metrics)\n",
    "\n",
    "# Commit e fechar conexão\n",
    "conn.commit()\n",
    "conn.close()"
   ]
  },
  {
   "cell_type": "code",
   "execution_count": null,
   "id": "bcf72925",
   "metadata": {},
   "outputs": [],
   "source": []
  }
 ],
 "metadata": {
  "kernelspec": {
   "display_name": "Python 3 (ipykernel)",
   "language": "python",
   "name": "python3"
  },
  "language_info": {
   "codemirror_mode": {
    "name": "ipython",
    "version": 3
   },
   "file_extension": ".py",
   "mimetype": "text/x-python",
   "name": "python",
   "nbconvert_exporter": "python",
   "pygments_lexer": "ipython3",
   "version": "3.9.13"
  }
 },
 "nbformat": 4,
 "nbformat_minor": 5
}
