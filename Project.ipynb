{
 "cells": [
  {
   "cell_type": "markdown",
   "id": "db8f2e09",
   "metadata": {},
   "source": [
    "# Projeto\n",
    "\n",
    "## Objetivo\n",
    "O objetivo deste projeto é realizar web scraping do Yahoo Finance para coletar informações financeiras e criar um banco de dados sob demanda. Posteriormente, planeja-se expandir o projeto criando uma API para hospedagem."
   ]
  },
  {
   "cell_type": "markdown",
   "id": "22288cd7",
   "metadata": {},
   "source": [
    "## Etapa 1: Web Scrapping"
   ]
  },
  {
   "cell_type": "code",
   "execution_count": 5,
   "id": "448fe365",
   "metadata": {},
   "outputs": [],
   "source": [
    "import requests\n",
    "from bs4 import BeautifulSoup\n",
    "import re\n",
    "import datetime\n",
    "import sqlite3\n",
    "from flask import Flask, jsonify, request"
   ]
  },
  {
   "cell_type": "code",
   "execution_count": 205,
   "id": "459eaf5c",
   "metadata": {},
   "outputs": [],
   "source": [
    "def check_symbol_existence(symbol):\n",
    "    url = f\"https://query1.finance.yahoo.com/v8/finance/chart/{symbol}?range=1d\"\n",
    "    headers = {\n",
    "        \"User-Agent\": \"Mozilla/5.0 (Windows NT 10.0; Win64; x64) AppleWebKit/537.36 (KHTML, like Gecko) Chrome/58.0.3029.110 Safari/537.3\"\n",
    "    }\n",
    "    \n",
    "    try:\n",
    "        response = requests.get(url, headers=headers)\n",
    "        response.raise_for_status()  \n",
    "\n",
    "        exist = 'No data found, symbol may be delisted' not in response.text\n",
    "        if not exist:\n",
    "            print(f\"A ação '{symbol}' não existe ou não foi encontrada.\")\n",
    "            return False\n",
    "        \n",
    "        metrics = {}\n",
    "        metrics['Symbol'] = re.findall(r'\"symbol\":\"(.*?)\"', response.text)[0]\n",
    "        metrics['type'] = re.findall(r'\"instrumentType\":\"(.*?)\"', response.text)[0]\n",
    "        return metrics\n",
    "\n",
    "    except requests.exceptions.RequestException as e:\n",
    "        print(f\"Erro na request de teste, A ação '{symbol}' não existe ou não foi encontrada.\")\n",
    "        return False\n"
   ]
  },
  {
   "cell_type": "markdown",
   "id": "e0c95fcd",
   "metadata": {},
   "source": [
    "A função \"check_symbol_existence\" se fez necessária uma vez que a consulta feita em \"get_stock_metrics\" eventualmente gerava uma resposta \"falsa\" ao realizar a consulta se símbolos que o Yahoo Finance detectava como \"parecidos\" com símbolos existentes, gerando uma resposta referente à listagem de \"Symbols similar to ...\"\n",
    "\n",
    "<img src=\"imgs/symbolsSimilarTo.png\" alt=\"Página Symbols similar to ...\" height=\"200\" width=\"400\">\n",
    "Na implementação da função, se a request for bem-sucedida e obtivermos informações relevantes sobre o ativo, já registramos o marcador (Symbol) e o tipo (type) do ativo no dicionário que conterá informações do ativo. Para obter os respectivos valores, utilizamos REGEX.\n",
    "\n",
    "<img src=\"imgs/check_symbol_existence_response.png\" alt=\"Página da request de check_symbol_existence\" height=\"500\">"
   ]
  },
  {
   "cell_type": "code",
   "execution_count": 206,
   "id": "1a42855d",
   "metadata": {},
   "outputs": [],
   "source": [
    "def get_stock_metrics(symbol):\n",
    "    symbol = symbol.upper()\n",
    "    url = f\"https://finance.yahoo.com/quote/{symbol}/key-statistics\"\n",
    "    headers = {\"User-Agent\": \"https://query1.finance.yahoo.com/v8/finance/chart/NVDA?region=US&lang=en-US&includePrePost=false&interval=2m&useYfid=true&range=1d&corsDomain=finance.yahoo.com&.tsrc=finance\"}\n",
    "\n",
    "    try:\n",
    "        print(f'Checando a existencia de {symbol}...')\n",
    "        \n",
    "        metrics = check_symbol_existence(symbol)\n",
    "        if metrics is False:  \n",
    "            return None         \n",
    "        print('Encontrado! \\nAguarde ...')\n",
    "        response = requests.get(url, headers=headers)\n",
    "\n",
    "        soup = BeautifulSoup(response.text, 'html.parser')\n",
    "        \n",
    "        metrics['qsp-price'] = soup.find('fin-streamer', attrs={'data-test': 'qsp-price'})['value']\n",
    "        \n",
    "        table_rows = soup.find_all('tr')\n",
    "        \n",
    "        for row in table_rows:\n",
    "            cells = row.find_all('td')\n",
    "\n",
    "            if len(cells) == 2:\n",
    "                metric = cells[0].text.strip()\n",
    "                value = cells[1].text.strip()\n",
    "                metrics[metric] = value\n",
    "        \n",
    "        metrics['timestamp'] = datetime.datetime.now().isoformat()\n",
    "        print('\\n')\n",
    "        print('Metricas Obtidas!')\n",
    "        return metrics\n",
    "    \n",
    "    except requests.exceptions.HTTPError as e:\n",
    "        print(\"Erro na request:\", e)\n",
    "        print(\"A ação foi encontrada porém, não foi possível obter as estatisticas da ação.\")\n",
    "        return None"
   ]
  },
  {
   "cell_type": "markdown",
   "id": "324e73a1",
   "metadata": {},
   "source": [
    "Para a implementação de get_stock_metrics, utilizei a biblioteca BeautifulSoup. Ao acessar uma página da aba \"Statistics\", percebemos que, separadas do valor principal, as informações estão representadas em tabelas, cada uma relacionada a um tópico:\n",
    "\n",
    "<img src=\"imgs/key-statistics_page.png\" alt=\"Página Symbols similar to ...\" height=\"200\" width=\"400\">\n",
    "\n",
    "Logo, para obter o valor principal, basta realizar o parse do HTML obtido na request e pegar o valor relacionado ao marcador \"regularMarketPrice\". Para as outras informações, será necessário outra saída.\n",
    "\n",
    "Inspecionando a página, percebe-se uma maneira de explorar o padrão no HTML para obter os dados. Cada métrica está dentro de uma tag < tr >:\n",
    "\n",
    "<img src=\"imgs/metrics.png\" alt=\"Padrão de organização das métricas\" height=\"200\" width=\"300\">\n",
    "\n",
    "Dentro de cada tag < tr >, temos duas tags < td >, a primeira se refere ao tipo da métrica e a segunda ao valor respectivo dessa métrica.\n",
    "\n",
    "<img src=\"imgs/metricsValue.png\" alt=\"Padrão de organização dos valores das métricas\" height=\"200\" width=\"300\">\n",
    "\n",
    "Dessa forma, torna-se simples obtermos as métricas. Utilizamos o BeautifulSoup para obter todas as linhas que contêm tags < tr >. Então, percorremos a linha; ao encontrar a primeira tag < td >, armazenamos o valor dela e fazemos o mesmo para a segunda. Esses valores serão associados entre si como chave e valor no dicionário de métricas."
   ]
  },
  {
   "cell_type": "code",
   "execution_count": 211,
   "id": "36bd8e71",
   "metadata": {},
   "outputs": [
    {
     "name": "stdout",
     "output_type": "stream",
     "text": [
      "Digite o identificador do ativo: amzn\n",
      "Checando a existencia de AMZN...\n",
      "Encontrado! \n",
      "Aguarde ...\n",
      "\n",
      "\n",
      "Metricas Obtidas!\n",
      "Symbol: AMZN\n",
      "type: EQUITY\n",
      "value: 5178.51\n",
      "Market Cap (intraday): 1.81T\n",
      "Enterprise Value: 1.86T\n",
      "Trailing P/E: 60.17\n",
      "Forward P/E: 41.32\n",
      "PEG Ratio (5 yr expected): 2.36\n",
      "Price/Sales (ttm): 3.18\n",
      "Price/Book (mrq): 8.98\n",
      "Enterprise Value/Revenue: 3.24\n",
      "Enterprise Value/EBITDA: 20.82\n",
      "Beta (5Y Monthly): 1.17\n",
      "52-Week Change 3: 73.42%\n",
      "S&P500 52-Week Change 3: 28.64%\n",
      "52 Week High 3: 180.14\n",
      "52 Week Low 3: 96.29\n",
      "50-Day Moving Average 3: 166.20\n",
      "200-Day Moving Average 3: 143.40\n",
      "Avg Vol (3 month) 3: 44.86M\n",
      "Avg Vol (10 day) 3: 38.41M\n",
      "Shares Outstanding 5: 10.39B\n",
      "Implied Shares Outstanding 6: 10.39B\n",
      "Float 8: 9.22B\n",
      "% Held by Insiders 1: 9.19%\n",
      "% Held by Institutions 1: 62.84%\n",
      "Shares Short (Feb 29, 2024) 4: 66.87M\n",
      "Short Ratio (Feb 29, 2024) 4: 1.3\n",
      "Short % of Float (Feb 29, 2024) 4: 0.85%\n",
      "Short % of Shares Outstanding (Feb 29, 2024) 4: 0.64%\n",
      "Shares Short (prior month Jan 31, 2024) 4: 75.18M\n",
      "Forward Annual Dividend Rate 4: N/A\n",
      "Forward Annual Dividend Yield 4: N/A\n",
      "Trailing Annual Dividend Rate 3: 0.00\n",
      "Trailing Annual Dividend Yield 3: 0.00%\n",
      "5 Year Average Dividend Yield 4: N/A\n",
      "Payout Ratio 4: 0.00%\n",
      "Dividend Date 3: N/A\n",
      "Ex-Dividend Date 4: N/A\n",
      "Last Split Factor 2: 20:1\n",
      "Last Split Date 3: Jun 06, 2022\n",
      "Fiscal Year Ends: Dec 31, 2023\n",
      "Most Recent Quarter (mrq): Dec 31, 2023\n",
      "Profit Margin: 5.29%\n",
      "Operating Margin (ttm): 7.52%\n",
      "Return on Assets (ttm): 4.65%\n",
      "Return on Equity (ttm): 17.49%\n",
      "Revenue (ttm): 574.78B\n",
      "Revenue Per Share (ttm): 55.78\n",
      "Quarterly Revenue Growth (yoy): 13.90%\n",
      "Gross Profit (ttm): N/A\n",
      "EBITDA: 85.52B\n",
      "Net Income Avi to Common (ttm): 30.42B\n",
      "Diluted EPS (ttm): 2.90\n",
      "Quarterly Earnings Growth (yoy): 3,721.60%\n",
      "Total Cash (mrq): 86.78B\n",
      "Total Cash Per Share (mrq): 8.35\n",
      "Total Debt (mrq): 161.57B\n",
      "Total Debt/Equity (mrq): 80.04%\n",
      "Current Ratio (mrq): 1.04\n",
      "Book Value Per Share (mrq): 19.44\n",
      "Operating Cash Flow (ttm): 84.95B\n",
      "Levered Free Cash Flow (ttm): 45.48B\n",
      "timestamp: 2024-03-19T20:57:17.741517\n"
     ]
    }
   ],
   "source": [
    "symbol = input(\"Digite o identificador do ativo: \")\n",
    "\n",
    "    \n",
    "metrics = get_stock_metrics(symbol)\n",
    "if metrics is not None:\n",
    "    for k, v in metrics.items():\n",
    "        print(f\"{k}: {v}\")\n",
    "\n"
   ]
  },
  {
   "cell_type": "markdown",
   "id": "51f51110",
   "metadata": {},
   "source": [
    "# Etapa 2: Criação da database"
   ]
  },
  {
   "cell_type": "code",
   "execution_count": 196,
   "id": "aafbbd73",
   "metadata": {
    "scrolled": true
   },
   "outputs": [],
   "source": [
    "def adjust_metrics_keys (metrics):\n",
    "    if metrics is not None:\n",
    "        new_data_dict = {}\n",
    "        for key, value in metrics.items():\n",
    "            \n",
    "            # Remove conteudo entre parenteses do que sera uma coluna\n",
    "            new_key = key.split('(')[0].strip()\n",
    "            if new_key != \"Symbol\":\n",
    "                new_key = new_key.lower()\n",
    "            \n",
    "            # Substituindo valores invalidos para nome de coluna\n",
    "            new_key = new_key.replace('%', 'percent')\n",
    "            new_key = re.sub(r'\\W+', '_', new_key)\n",
    "            \n",
    "            # Verificar se a chave não começa com um número\n",
    "            if not new_key[0].isdigit():\n",
    "                new_data_dict[new_key] = value\n",
    "                # Alterar tipo INDEX para evitar conflito no SQLite\n",
    "                if value == \"INDEX\":\n",
    "                    new_data_dict[new_key] = \"CURRENCY\"\n",
    "        # Atualizar o dicionário original\n",
    "        metrics.clear()  # Limpar o dicionário original\n",
    "        metrics.update(new_data_dict)  # Atualizar o dicionário original com as chaves atualizadas\n",
    "\n"
   ]
  },
  {
   "cell_type": "code",
   "execution_count": null,
   "id": "01cf30f3",
   "metadata": {},
   "outputs": [],
   "source": [
    "def create_table(cursor, table_name, columns):\n",
    "    \n",
    "    cursor.execute(\"SELECT name FROM sqlite_master WHERE type='table' AND name=?\", (table_name,))\n",
    "    existing_table = cursor.fetchone()\n",
    "    \n",
    "    if not existing_table:\n",
    "        cursor.execute(f\"CREATE TABLE IF NOT EXISTS {table_name} (Symbol TEXT PRIMARY KEY, {', '.join(columns)})\")\n",
    "    \n",
    "    cursor.execute(f\"PRAGMA table_info({table_name})\")\n",
    "    existing_columns = [column[1] for column in cursor.fetchall()]\n",
    "    # Adicionar as colunas ausentes\n",
    "    for column in columns:\n",
    "        if column not in existing_columns:\n",
    "            cursor.execute(f\"ALTER TABLE {table_name} ADD COLUMN {column} REAL\")"
   ]
  },
  {
   "cell_type": "code",
   "execution_count": 201,
   "id": "7a3639f4",
   "metadata": {},
   "outputs": [],
   "source": [
    "def insert_data(cursor, table_name, data):\n",
    "    cursor.execute(f\"PRAGMA table_info({table_name})\")\n",
    "    table_columns = [column[1] for column in cursor.fetchall()]\n",
    "\n",
    "    for key in data.keys():\n",
    "        if key not in table_columns and key != 'type' and key != 'Symbol':\n",
    "            raise ValueError(f\"A coluna '{key}' não existe na tabela '{table_name}'\")\n",
    "\n",
    "    columns = ', '.join([col for col in data.keys() if col != 'type'])\n",
    "    \n",
    "    values = tuple(data[key] for key in data.keys() if key != 'type')\n",
    "\n",
    "    placeholders = ', '.join(['?' for _ in range(len(values))])\n",
    "\n",
    "    cursor.execute(f\"DELETE FROM {table_name} WHERE Symbol = ?\", (data['Symbol'],))\n",
    "\n",
    "    cursor.execute(f\"INSERT INTO {table_name} ({columns}) VALUES ({placeholders})\", values)\n"
   ]
  },
  {
   "cell_type": "code",
   "execution_count": 202,
   "id": "45e2ff71",
   "metadata": {},
   "outputs": [
    {
     "name": "stdout",
     "output_type": "stream",
     "text": [
      "Digite o símbolo da empresa (por exemplo, 'AAPL' para Apple Inc.): spy\n",
      "Checando a existencia de SPY...\n",
      "Encontrado! \n",
      "Aguarde ...\n",
      "\n",
      "\n",
      "Metricas Obtidas!\n"
     ]
    }
   ],
   "source": [
    "symbol = input(\"Digite o símbolo da empresa (por exemplo, 'AAPL' para Apple Inc.): \")\n",
    "\n",
    "    \n",
    "metrics = get_stock_metrics(symbol.upper())"
   ]
  },
  {
   "cell_type": "code",
   "execution_count": 2,
   "id": "d81eaf7f",
   "metadata": {
    "collapsed": true
   },
   "outputs": [
    {
     "ename": "NameError",
     "evalue": "name 'adjust_metrics_keys' is not defined",
     "output_type": "error",
     "traceback": [
      "\u001b[1;31m---------------------------------------------------------------------------\u001b[0m",
      "\u001b[1;31mNameError\u001b[0m                                 Traceback (most recent call last)",
      "\u001b[1;32m~\\AppData\\Local\\Temp\\ipykernel_4364\\2380253055.py\u001b[0m in \u001b[0;36m<module>\u001b[1;34m\u001b[0m\n\u001b[0;32m      1\u001b[0m \u001b[1;31m# Adapta o nome das chaves no dicionario, para nomes validos de coluna\u001b[0m\u001b[1;33m\u001b[0m\u001b[1;33m\u001b[0m\u001b[0m\n\u001b[1;32m----> 2\u001b[1;33m \u001b[0madjust_metrics_keys\u001b[0m\u001b[1;33m(\u001b[0m\u001b[0mmetrics\u001b[0m\u001b[1;33m)\u001b[0m\u001b[1;33m\u001b[0m\u001b[1;33m\u001b[0m\u001b[0m\n\u001b[0m\u001b[0;32m      3\u001b[0m \u001b[1;33m\u001b[0m\u001b[0m\n\u001b[0;32m      4\u001b[0m \u001b[1;32mfor\u001b[0m \u001b[0mk\u001b[0m\u001b[1;33m,\u001b[0m \u001b[0mv\u001b[0m \u001b[1;32min\u001b[0m \u001b[0mmetrics\u001b[0m\u001b[1;33m.\u001b[0m\u001b[0mitems\u001b[0m\u001b[1;33m(\u001b[0m\u001b[1;33m)\u001b[0m\u001b[1;33m:\u001b[0m\u001b[1;33m\u001b[0m\u001b[1;33m\u001b[0m\u001b[0m\n\u001b[0;32m      5\u001b[0m         \u001b[0mprint\u001b[0m\u001b[1;33m(\u001b[0m\u001b[1;34mf\"{k}: {v}\"\u001b[0m\u001b[1;33m)\u001b[0m\u001b[1;33m\u001b[0m\u001b[1;33m\u001b[0m\u001b[0m\n",
      "\u001b[1;31mNameError\u001b[0m: name 'adjust_metrics_keys' is not defined"
     ]
    }
   ],
   "source": [
    "# Adapta o nome das chaves no dicionario, para nomes validos de coluna \n",
    "adjust_metrics_keys(metrics)\n",
    "\n",
    "for k, v in metrics.items():\n",
    "        print(f\"{k}: {v}\")\n",
    "\n",
    "        \n",
    "# Conectar ao banco de dados\n",
    "conn = sqlite3.connect('finance_data.db')\n",
    "cursor = conn.cursor()\n",
    "\n",
    "# Cria/Atualiza tabela com base nas metricas coletadas\n",
    "table_name = metrics['type']\n",
    "create_table(cursor, table_name, [key for key in metrics.keys() if key != 'type' and key != 'Symbol'])\n",
    "\n",
    "# Insere/Atualiza os dados do ativo na tabela destinada ao seu tipo\n",
    "insert_data(cursor, table_name, metrics)\n",
    "\n",
    "# Commit e fechar conexão\n",
    "conn.commit()\n",
    "conn.close()"
   ]
  },
  {
   "cell_type": "markdown",
   "id": "015c8a1d",
   "metadata": {},
   "source": [
    "## Etapa 3: Criação da API"
   ]
  },
  {
   "cell_type": "code",
   "execution_count": 8,
   "id": "e2211370",
   "metadata": {},
   "outputs": [
    {
     "name": "stdout",
     "output_type": "stream",
     "text": [
      " * Serving Flask app \"__main__\" (lazy loading)\n",
      " * Environment: production\n",
      "\u001b[31m   WARNING: This is a development server. Do not use it in a production deployment.\u001b[0m\n",
      "\u001b[2m   Use a production WSGI server instead.\u001b[0m\n",
      " * Debug mode: on\n"
     ]
    },
    {
     "name": "stderr",
     "output_type": "stream",
     "text": [
      " * Restarting with watchdog (windowsapi)\n"
     ]
    },
    {
     "ename": "SystemExit",
     "evalue": "1",
     "output_type": "error",
     "traceback": [
      "An exception has occurred, use %tb to see the full traceback.\n",
      "\u001b[1;31mSystemExit\u001b[0m\u001b[1;31m:\u001b[0m 1\n"
     ]
    }
   ],
   "source": []
  },
  {
   "cell_type": "code",
   "execution_count": 10,
   "id": "01d09841",
   "metadata": {},
   "outputs": [
    {
     "name": "stdout",
     "output_type": "stream",
     "text": [
      "O banco de dados 'finance_data.db' foi excluído com sucesso.\n"
     ]
    }
   ],
   "source": [
    "import os\n",
    "\n",
    "def delete_database(database_name):\n",
    "    try:\n",
    "        # Verificar se o arquivo do banco de dados existe\n",
    "        if os.path.exists(database_name):\n",
    "            # Excluir o arquivo do banco de dados\n",
    "            os.remove(database_name)\n",
    "            print(f\"O banco de dados '{database_name}' foi excluído com sucesso.\")\n",
    "        else:\n",
    "            print(f\"O banco de dados '{database_name}' não foi encontrado.\")\n",
    "    except Exception as e:\n",
    "        print(f\"Ocorreu um erro ao excluir o banco de dados '{database_name}': {e}\")\n",
    "\n",
    "# Chame a função delete_database com o nome do banco de dados que deseja excluir\n",
    "delete_database('finance_data.db')\n"
   ]
  }
 ],
 "metadata": {
  "kernelspec": {
   "display_name": "Python 3 (ipykernel)",
   "language": "python",
   "name": "python3"
  },
  "language_info": {
   "codemirror_mode": {
    "name": "ipython",
    "version": 3
   },
   "file_extension": ".py",
   "mimetype": "text/x-python",
   "name": "python",
   "nbconvert_exporter": "python",
   "pygments_lexer": "ipython3",
   "version": "3.9.13"
  }
 },
 "nbformat": 4,
 "nbformat_minor": 5
}
